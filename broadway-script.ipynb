{
 "cells": [
  {
   "cell_type": "markdown",
   "metadata": {},
   "source": [
    "The main data was obtained from: https://www.broadwayleague.com/research/grosses-broadway-nyc/#weekly_grosses, where I searched the \"Weekly Grosses by Show\" from January 6th, 2019 to the current date or March 21st, 2021. This way the data that is currently in CORGIS will be updated to include the current statistics provided by The Broadway League and can provide an image of Broadway during the pandemic.\n",
    "\n",
    "I copied and pasted the data from my search results manually into Excel and will convert the file into a csv using Python and Pandas."
   ]
  },
  {
   "cell_type": "code",
   "execution_count": 10,
   "metadata": {},
   "outputs": [],
   "source": [
    "import pandas as pd\n",
    "read_file = pd.read_excel (r'C:\\Users\\manas\\Documents\\BroadwayData.xlsx')\n",
    "read_file.to_csv (r'C:\\Users\\manas\\BroadwayDataset\\broadway-corgis.csv', index = None, header=False)"
   ]
  },
  {
   "cell_type": "markdown",
   "metadata": {},
   "source": [
    "Now I will be creating the metadata file within the same repository."
   ]
  },
  {
   "cell_type": "code",
   "execution_count": 19,
   "metadata": {},
   "outputs": [],
   "source": [
    "import csv\n",
    "row_list = [[\"Name\", \"Broadway\"],\n",
    "             [\"Version\", \"2.0.1\"],\n",
    "             [\"Author\", \"Manasvi Malepati <manasvi@udel.edu>\"],\n",
    "             [\"Created\", \"3/21/2021\"],\n",
    "             [\"Data File\",\"broadway-corgis.csv\"],\n",
    "             [\"Overview\",\"\\\"This library contains data about Broadway shows that ran from January 6th, 2019 to March 21st, 2021\\\"\"],\n",
    "             [\"Data Source\",\"The Broadway League\"],\n",
    "             [\"Description\",\"\\\"This library holds data about over Broadway shows, grouped over weeklong periods. The dataset is made available by the Broadway League (the national trade association for the Broadway industry), and you can view the data online at http://www.broadwayleague.com/.\\\"\"],\n",
    "             [\"Tags\",\"\\\"broadway, musical, theatre, tickets\\\"\"],\n",
    "             [\"Row\",\"production\"],\n",
    "             [\"Acknowledgement\"],\n",
    "             [\"Icon\",\"broadway-icon.png\"],\n",
    "             [\"Properties\",\"Name,Type,Index,Description\"],\n",
    "             [\",Date.Full\",\"string\",\"The full date representation that this performance's week ended on in \\\"Month/Day/Year\\\" format.\"],\n",
    "             [\",Show.Name\",\"string\",\"The name of the production.\"],\n",
    "             [\",Show.Theatre\",\"string\",\"True\",\"The name of the theatre.\"],\n",
    "             [\",Show.Type\",\"string\",\"True\",\"The name of the theatre.\"],\n",
    "             [\",Statistics.Previews\",\"int\",\"The number of preview shows given.\"],\n",
    "             [\",Statistics.Performances\",\"int\",\"The number of performances given.\"],\n",
    "             [\",Statistics.Gross\",\"int\",\"The \"\"Gross Gross\"\" of this performance, or how much it made in total across the entire week. Measured in dollars.\"],\n",
    "             [\",Statistics.GrossPrev\",\"int\",\"The gross from the previous week. If there is no previous week, represented with \\\"$.\\\"\"],\n",
    "             [\",Statistics.GrossProportion\",\"int\",\"What proportion of the gross potential was the gross amount.\"],\n",
    "             [\",Statistics.Attendance\",\"int\",\"The total number of people who attended performances over the week.\"],\n",
    "             [\",Statistics.AttendancePrev\",\"int\",\"The attendance from the previous week.\"],\n",
    "             [\",Statistics.Capacity\",\"int\",\"The percentage of the theatre that was filled that week\"]]\n",
    "with open('broadway-meta.csv', 'w', newline='') as file:\n",
    "    writer = csv.writer(file)\n",
    "    writer.writerows(row_list)"
   ]
  },
  {
   "cell_type": "markdown",
   "metadata": {},
   "source": [
    "And then I'm adding the image as a png file from this URL: https://www.nycgo.com/images/pages/413/broadway-manhattan-nyc-photo-kate-glicksberg_mg_0481__large.jpg"
   ]
  },
  {
   "cell_type": "code",
   "execution_count": 14,
   "metadata": {},
   "outputs": [
    {
     "data": {
      "text/plain": [
       "('broadway-icon.png', <http.client.HTTPMessage at 0x1db75d887c0>)"
      ]
     },
     "execution_count": 14,
     "metadata": {},
     "output_type": "execute_result"
    }
   ],
   "source": [
    "import urllib.request\n",
    "urllib.request.urlretrieve(\"https://www.nycgo.com/images/pages/413/broadway-manhattan-nyc-photo-kate-glicksberg_mg_0481__large.jpg\", \"broadway-icon.png\")"
   ]
  }
 ],
 "metadata": {
  "kernelspec": {
   "display_name": "Python 3",
   "language": "python",
   "name": "python3"
  },
  "language_info": {
   "codemirror_mode": {
    "name": "ipython",
    "version": 3
   },
   "file_extension": ".py",
   "mimetype": "text/x-python",
   "name": "python",
   "nbconvert_exporter": "python",
   "pygments_lexer": "ipython3",
   "version": "3.8.5"
  }
 },
 "nbformat": 4,
 "nbformat_minor": 4
}
